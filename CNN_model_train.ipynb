{
  "nbformat": 4,
  "nbformat_minor": 0,
  "metadata": {
    "colab": {
      "provenance": []
    },
    "kernelspec": {
      "name": "python3",
      "display_name": "Python 3"
    },
    "language_info": {
      "name": "python"
    },
    "gpuClass": "standard"
  },
  "cells": [
    {
      "cell_type": "code",
      "execution_count": null,
      "metadata": {
        "colab": {
          "base_uri": "https://localhost:8080/"
        },
        "id": "4CrQVGwWenar",
        "outputId": "88910874-ce95-4f88-bfd4-378dd21ec1a1"
      },
      "outputs": [
        {
          "output_type": "stream",
          "name": "stdout",
          "text": [
            "Looking in indexes: https://pypi.org/simple, https://us-python.pkg.dev/colab-wheels/public/simple/\n",
            "\u001b[31mERROR: Could not find a version that satisfies the requirement keras.layers (from versions: none)\u001b[0m\u001b[31m\n",
            "\u001b[0m\u001b[31mERROR: No matching distribution found for keras.layers\u001b[0m\u001b[31m\n",
            "\u001b[0m"
          ]
        }
      ],
      "source": [
        "!pip install keras.layers"
      ]
    },
    {
      "cell_type": "code",
      "source": [
        "# importing the required libraries\n",
        "from keras.preprocessing.image import ImageDataGenerator\n",
        "from keras.models import Sequential\n",
        "from keras.layers.convolutional import Conv2D\n",
        "from keras.layers.convolutional import MaxPooling2D\n",
        "from keras.layers import Activation, Dropout, Flatten,Dense\n",
        "from keras import backend as k\n",
        "from keras import optimizers"
      ],
      "metadata": {
        "id": "Cc-pQepvfrl3"
      },
      "execution_count": null,
      "outputs": []
    },
    {
      "cell_type": "code",
      "source": [
        "from google.colab import drive\n",
        "drive.mount('/content/drive')"
      ],
      "metadata": {
        "colab": {
          "base_uri": "https://localhost:8080/"
        },
        "id": "7nJEgT3lsnS_",
        "outputId": "8d89c47e-1239-4a10-e30d-0ac9c44be445"
      },
      "execution_count": null,
      "outputs": [
        {
          "output_type": "stream",
          "name": "stdout",
          "text": [
            "Drive already mounted at /content/drive; to attempt to forcibly remount, call drive.mount(\"/content/drive\", force_remount=True).\n"
          ]
        }
      ]
    },
    {
      "cell_type": "code",
      "source": [
        "#Define the parameters\n",
        "img_width, img_height = 224,224 # changing dimension of all images\n",
        "train_path='/content/drive/MyDrive/brain tumor classification/train'\n",
        "valid_path1_true='/content/drive/MyDrive/brain tumor classification/test'\n",
        "#valid_path2_false='/content/drive/MyDrive/brain tumor 100/testing/meningioma'\n",
        "nb_train_samples = 100 #number of train samples\n",
        "nb_test_samples= 25 #number of test samples\n",
        "epoch = 20\n",
        "batch_size = 16"
      ],
      "metadata": {
        "id": "DjPA6BAjgP_e"
      },
      "execution_count": null,
      "outputs": []
    },
    {
      "cell_type": "code",
      "source": [
        "if k.image_data_format() == 'channels_first':\n",
        "    input_shape = (3, img_width, img_height)\n",
        "else:\n",
        "    input_shape = (img_width, img_height, 3) "
      ],
      "metadata": {
        "id": "X6A8BrgRqvGV"
      },
      "execution_count": null,
      "outputs": []
    },
    {
      "cell_type": "markdown",
      "source": [
        "Feature Extraction Stage"
      ],
      "metadata": {
        "id": "9JV__WiWAG1y"
      }
    },
    {
      "cell_type": "code",
      "source": [
        "# Stage of CNN\n",
        "model = Sequential()\n",
        "model.add(Conv2D(32,(3,3),input_shape = input_shape))\n",
        "model.add(Activation('relu'))\n",
        "model.add(MaxPooling2D(pool_size=(2,2)))\n",
        "print(model.summary())"
      ],
      "metadata": {
        "colab": {
          "base_uri": "https://localhost:8080/"
        },
        "id": "47HLRWvW01zG",
        "outputId": "9ba64e18-2c15-4744-b8a2-d09349283cf7"
      },
      "execution_count": null,
      "outputs": [
        {
          "output_type": "stream",
          "name": "stdout",
          "text": [
            "Model: \"sequential_1\"\n",
            "_________________________________________________________________\n",
            " Layer (type)                Output Shape              Param #   \n",
            "=================================================================\n",
            " conv2d_3 (Conv2D)           (None, 222, 222, 32)      896       \n",
            "                                                                 \n",
            " activation_5 (Activation)   (None, 222, 222, 32)      0         \n",
            "                                                                 \n",
            " max_pooling2d_3 (MaxPooling  (None, 111, 111, 32)     0         \n",
            " 2D)                                                             \n",
            "                                                                 \n",
            "=================================================================\n",
            "Total params: 896\n",
            "Trainable params: 896\n",
            "Non-trainable params: 0\n",
            "_________________________________________________________________\n",
            "None\n"
          ]
        }
      ]
    },
    {
      "cell_type": "code",
      "source": [
        "# 32 is the number of filters"
      ],
      "metadata": {
        "id": "QnUHa02OAtCZ"
      },
      "execution_count": null,
      "outputs": []
    },
    {
      "cell_type": "code",
      "source": [
        "# Stage2\n",
        "model.add(Conv2D(32,(3,3))) # input shape is not included here as output of 1st stage is the input of 2nd stage\n",
        "model.add(Activation('relu'))\n",
        "model.add(MaxPooling2D(pool_size=(2,2)))\n",
        "print(model.summary())"
      ],
      "metadata": {
        "colab": {
          "base_uri": "https://localhost:8080/"
        },
        "id": "TTKsPmOn46Kv",
        "outputId": "29aee590-e1d5-4b39-b6b7-4d55618cda86"
      },
      "execution_count": null,
      "outputs": [
        {
          "output_type": "stream",
          "name": "stdout",
          "text": [
            "Model: \"sequential_1\"\n",
            "_________________________________________________________________\n",
            " Layer (type)                Output Shape              Param #   \n",
            "=================================================================\n",
            " conv2d_3 (Conv2D)           (None, 222, 222, 32)      896       \n",
            "                                                                 \n",
            " activation_5 (Activation)   (None, 222, 222, 32)      0         \n",
            "                                                                 \n",
            " max_pooling2d_3 (MaxPooling  (None, 111, 111, 32)     0         \n",
            " 2D)                                                             \n",
            "                                                                 \n",
            " conv2d_4 (Conv2D)           (None, 109, 109, 32)      9248      \n",
            "                                                                 \n",
            " activation_6 (Activation)   (None, 109, 109, 32)      0         \n",
            "                                                                 \n",
            " max_pooling2d_4 (MaxPooling  (None, 54, 54, 32)       0         \n",
            " 2D)                                                             \n",
            "                                                                 \n",
            "=================================================================\n",
            "Total params: 10,144\n",
            "Trainable params: 10,144\n",
            "Non-trainable params: 0\n",
            "_________________________________________________________________\n",
            "None\n"
          ]
        }
      ]
    },
    {
      "cell_type": "code",
      "source": [
        "# Stage3\n",
        "model.add(Conv2D(64,(3,3)))\n",
        "model.add(Activation('relu'))\n",
        "model.add(MaxPooling2D(pool_size=(2,2)))\n",
        "print(model.summary())"
      ],
      "metadata": {
        "colab": {
          "base_uri": "https://localhost:8080/"
        },
        "id": "Hgh4_RAd9Vek",
        "outputId": "8e36a2e2-4025-4934-8d7e-d159c2a2e8a0"
      },
      "execution_count": null,
      "outputs": [
        {
          "output_type": "stream",
          "name": "stdout",
          "text": [
            "Model: \"sequential_1\"\n",
            "_________________________________________________________________\n",
            " Layer (type)                Output Shape              Param #   \n",
            "=================================================================\n",
            " conv2d_3 (Conv2D)           (None, 222, 222, 32)      896       \n",
            "                                                                 \n",
            " activation_5 (Activation)   (None, 222, 222, 32)      0         \n",
            "                                                                 \n",
            " max_pooling2d_3 (MaxPooling  (None, 111, 111, 32)     0         \n",
            " 2D)                                                             \n",
            "                                                                 \n",
            " conv2d_4 (Conv2D)           (None, 109, 109, 32)      9248      \n",
            "                                                                 \n",
            " activation_6 (Activation)   (None, 109, 109, 32)      0         \n",
            "                                                                 \n",
            " max_pooling2d_4 (MaxPooling  (None, 54, 54, 32)       0         \n",
            " 2D)                                                             \n",
            "                                                                 \n",
            " conv2d_5 (Conv2D)           (None, 52, 52, 64)        18496     \n",
            "                                                                 \n",
            " activation_7 (Activation)   (None, 52, 52, 64)        0         \n",
            "                                                                 \n",
            " max_pooling2d_5 (MaxPooling  (None, 26, 26, 64)       0         \n",
            " 2D)                                                             \n",
            "                                                                 \n",
            "=================================================================\n",
            "Total params: 28,640\n",
            "Trainable params: 28,640\n",
            "Non-trainable params: 0\n",
            "_________________________________________________________________\n",
            "None\n"
          ]
        }
      ]
    },
    {
      "cell_type": "code",
      "source": [
        "# Classification Stage"
      ],
      "metadata": {
        "id": "vHB4mwCi-IzQ"
      },
      "execution_count": null,
      "outputs": []
    },
    {
      "cell_type": "code",
      "source": [
        "model.add(Flatten())#this layer will convert the matrix into array\n",
        "model.add(Dense(64))\n",
        "model.add(Activation('relu'))\n",
        "model.add(Dropout(0.5))# we will randomly drop 50% input so that we can avoid overtrained\n",
        "model.add(Dense(2))  #number of classes \n",
        "model.add(Activation('softmax'))\n",
        "print(model.summary())"
      ],
      "metadata": {
        "colab": {
          "base_uri": "https://localhost:8080/"
        },
        "id": "ENsY93emAQ7e",
        "outputId": "b4740b2c-833c-4069-db73-f597276e2362"
      },
      "execution_count": null,
      "outputs": [
        {
          "output_type": "stream",
          "name": "stdout",
          "text": [
            "Model: \"sequential_1\"\n",
            "_________________________________________________________________\n",
            " Layer (type)                Output Shape              Param #   \n",
            "=================================================================\n",
            " conv2d_3 (Conv2D)           (None, 222, 222, 32)      896       \n",
            "                                                                 \n",
            " activation_5 (Activation)   (None, 222, 222, 32)      0         \n",
            "                                                                 \n",
            " max_pooling2d_3 (MaxPooling  (None, 111, 111, 32)     0         \n",
            " 2D)                                                             \n",
            "                                                                 \n",
            " conv2d_4 (Conv2D)           (None, 109, 109, 32)      9248      \n",
            "                                                                 \n",
            " activation_6 (Activation)   (None, 109, 109, 32)      0         \n",
            "                                                                 \n",
            " max_pooling2d_4 (MaxPooling  (None, 54, 54, 32)       0         \n",
            " 2D)                                                             \n",
            "                                                                 \n",
            " conv2d_5 (Conv2D)           (None, 52, 52, 64)        18496     \n",
            "                                                                 \n",
            " activation_7 (Activation)   (None, 52, 52, 64)        0         \n",
            "                                                                 \n",
            " max_pooling2d_5 (MaxPooling  (None, 26, 26, 64)       0         \n",
            " 2D)                                                             \n",
            "                                                                 \n",
            " flatten_1 (Flatten)         (None, 43264)             0         \n",
            "                                                                 \n",
            " dense_2 (Dense)             (None, 64)                2768960   \n",
            "                                                                 \n",
            " activation_8 (Activation)   (None, 64)                0         \n",
            "                                                                 \n",
            " dropout_1 (Dropout)         (None, 64)                0         \n",
            "                                                                 \n",
            " dense_3 (Dense)             (None, 2)                 130       \n",
            "                                                                 \n",
            " activation_9 (Activation)   (None, 2)                 0         \n",
            "                                                                 \n",
            "=================================================================\n",
            "Total params: 2,797,730\n",
            "Trainable params: 2,797,730\n",
            "Non-trainable params: 0\n",
            "_________________________________________________________________\n",
            "None\n"
          ]
        }
      ]
    },
    {
      "cell_type": "code",
      "source": [
        "# Build the Network\n",
        "model.compile(loss='categorical_crossentropy',optimizer=optimizers.SGD(learning_rate=0.01),metrics=['accuracy'])"
      ],
      "metadata": {
        "id": "TlbpFkDzCaKe"
      },
      "execution_count": null,
      "outputs": []
    },
    {
      "cell_type": "code",
      "source": [
        "# image augmentation\n",
        "train_datagen = ImageDataGenerator(rescale=1./255,shear_range=0.2,zoom_range = 0.2,horizontal_flip=True) # to train we need many images\n",
        "# but simple we don't have so much image. So we will flip,zoom,rescale etc the image so as to train data."
      ],
      "metadata": {
        "id": "FLUVQme8FG-z"
      },
      "execution_count": null,
      "outputs": []
    },
    {
      "cell_type": "code",
      "source": [
        "test_datagen = ImageDataGenerator(rescale=1./255)"
      ],
      "metadata": {
        "id": "Nl5FBaRgGmjV"
      },
      "execution_count": null,
      "outputs": []
    },
    {
      "cell_type": "markdown",
      "source": [
        "**LOADING THE DATASET**"
      ],
      "metadata": {
        "id": "JeDgoTAyG3BW"
      }
    },
    {
      "cell_type": "code",
      "source": [
        "train_generator = train_datagen.flow_from_directory(train_path,target_size=(img_width,img_height),\n",
        "                                                    batch_size=batch_size,class_mode='categorical')"
      ],
      "metadata": {
        "colab": {
          "base_uri": "https://localhost:8080/"
        },
        "id": "UPyACb0uGxrR",
        "outputId": "12a7b35b-cd11-4e3e-c86e-b6fcc1904189"
      },
      "execution_count": null,
      "outputs": [
        {
          "output_type": "stream",
          "name": "stdout",
          "text": [
            "Found 228 images belonging to 2 classes.\n"
          ]
        }
      ]
    },
    {
      "cell_type": "code",
      "source": [
        "test_generator=test_datagen.flow_from_directory(valid_path1_true,target_size=(img_width,img_height),batch_size=batch_size,class_mode='categorical')"
      ],
      "metadata": {
        "colab": {
          "base_uri": "https://localhost:8080/"
        },
        "id": "VYMKkgMhIsWm",
        "outputId": "2bec4ec4-481d-43fa-b121-91f067bff357"
      },
      "execution_count": null,
      "outputs": [
        {
          "output_type": "stream",
          "name": "stdout",
          "text": [
            "Found 48 images belonging to 2 classes.\n"
          ]
        }
      ]
    },
    {
      "cell_type": "code",
      "source": [
        "# Training the CNN Model\n",
        "classifier = model.fit(\n",
        "    train_generator,\n",
        "    steps_per_epoch= nb_train_samples//batch_size,\n",
        "    epochs = epoch,\n",
        "    validation_data = test_generator,\n",
        "    validation_steps = nb_test_samples // batch_size\n",
        ")"
      ],
      "metadata": {
        "id": "6qa2QGU0JeSO",
        "colab": {
          "base_uri": "https://localhost:8080/"
        },
        "outputId": "df42fe31-8b97-40c7-89b8-c90954233199"
      },
      "execution_count": null,
      "outputs": [
        {
          "output_type": "stream",
          "name": "stdout",
          "text": [
            "Epoch 1/20\n",
            "6/6 [==============================] - 18s 3s/step - loss: 0.6799 - accuracy: 0.5208 - val_loss: 0.6949 - val_accuracy: 0.5625\n",
            "Epoch 2/20\n",
            "6/6 [==============================] - 17s 3s/step - loss: 0.6366 - accuracy: 0.5729 - val_loss: 0.7538 - val_accuracy: 0.4375\n",
            "Epoch 3/20\n",
            "6/6 [==============================] - 11s 2s/step - loss: 0.6098 - accuracy: 0.6875 - val_loss: 0.8254 - val_accuracy: 0.5000\n",
            "Epoch 4/20\n",
            "6/6 [==============================] - 9s 1s/step - loss: 0.5766 - accuracy: 0.7396 - val_loss: 1.0669 - val_accuracy: 0.3125\n",
            "Epoch 5/20\n",
            "6/6 [==============================] - 11s 2s/step - loss: 0.5533 - accuracy: 0.7143 - val_loss: 0.8055 - val_accuracy: 0.6250\n",
            "Epoch 6/20\n",
            "6/6 [==============================] - 11s 2s/step - loss: 0.5899 - accuracy: 0.6458 - val_loss: 1.0245 - val_accuracy: 0.5000\n",
            "Epoch 7/20\n",
            "6/6 [==============================] - 9s 1s/step - loss: 0.4958 - accuracy: 0.7708 - val_loss: 1.1154 - val_accuracy: 0.6250\n",
            "Epoch 8/20\n",
            "6/6 [==============================] - 9s 1s/step - loss: 0.5112 - accuracy: 0.7396 - val_loss: 1.3046 - val_accuracy: 0.5625\n",
            "Epoch 9/20\n",
            "6/6 [==============================] - 12s 2s/step - loss: 0.5218 - accuracy: 0.7381 - val_loss: 1.2674 - val_accuracy: 0.5625\n",
            "Epoch 10/20\n",
            "6/6 [==============================] - 11s 2s/step - loss: 0.3782 - accuracy: 0.8452 - val_loss: 1.1627 - val_accuracy: 0.2500\n",
            "Epoch 11/20\n",
            "6/6 [==============================] - 8s 1s/step - loss: 0.5205 - accuracy: 0.7381 - val_loss: 1.0034 - val_accuracy: 0.6250\n",
            "Epoch 12/20\n",
            "6/6 [==============================] - 11s 2s/step - loss: 0.5695 - accuracy: 0.7396 - val_loss: 1.0742 - val_accuracy: 0.4375\n",
            "Epoch 13/20\n",
            "6/6 [==============================] - 11s 2s/step - loss: 0.4963 - accuracy: 0.7396 - val_loss: 1.1035 - val_accuracy: 0.5000\n",
            "Epoch 14/20\n",
            "6/6 [==============================] - 11s 2s/step - loss: 0.4826 - accuracy: 0.7976 - val_loss: 1.2892 - val_accuracy: 0.6250\n",
            "Epoch 15/20\n",
            "6/6 [==============================] - 11s 2s/step - loss: 0.4581 - accuracy: 0.7917 - val_loss: 1.5577 - val_accuracy: 0.3750\n",
            "Epoch 16/20\n",
            "6/6 [==============================] - 9s 1s/step - loss: 0.4021 - accuracy: 0.8229 - val_loss: 1.1245 - val_accuracy: 0.6250\n",
            "Epoch 17/20\n",
            "6/6 [==============================] - 10s 1s/step - loss: 0.4673 - accuracy: 0.7500 - val_loss: 1.4851 - val_accuracy: 0.5000\n",
            "Epoch 18/20\n",
            "6/6 [==============================] - 12s 2s/step - loss: 0.3869 - accuracy: 0.8125 - val_loss: 1.7988 - val_accuracy: 0.5000\n",
            "Epoch 19/20\n",
            "6/6 [==============================] - 11s 2s/step - loss: 0.5171 - accuracy: 0.7188 - val_loss: 1.4746 - val_accuracy: 0.4375\n",
            "Epoch 20/20\n",
            "6/6 [==============================] - 11s 2s/step - loss: 0.4764 - accuracy: 0.7812 - val_loss: 1.3893 - val_accuracy: 0.5000\n"
          ]
        }
      ]
    },
    {
      "cell_type": "code",
      "source": [
        "# Saving the model\n",
        "import h5py\n",
        "model.save('keras_model.h5')"
      ],
      "metadata": {
        "id": "7ZFQtEW8eYTv"
      },
      "execution_count": null,
      "outputs": []
    },
    {
      "cell_type": "code",
      "source": [
        "# Plotting the perfirmance of model\n",
        "import matplotlib.pyplot as plt\n",
        "plt.plot(classifier.history['accuracy'])\n",
        "plt.plot(classifier.history['val_accuracy'])\n",
        "plt.title('Model Accuracy')\n",
        "plt.xlabel('Epochs')\n",
        "plt.ylabel('Accuracy')\n",
        "plt.show()\n",
        "\n",
        "plt.plot(classifier.history['loss'])\n",
        "plt.plot(classifier.history['val_loss'])\n",
        "plt.xlabel('Epochs')\n",
        "plt.ylabel('Loss')\n",
        "plt.show()"
      ],
      "metadata": {
        "colab": {
          "base_uri": "https://localhost:8080/",
          "height": 557
        },
        "id": "Uo3MDZ_Tep7e",
        "outputId": "1571dd26-0068-4f85-937d-c22ef01b5450"
      },
      "execution_count": null,
      "outputs": [
        {
          "output_type": "display_data",
          "data": {
            "text/plain": [
              "<Figure size 432x288 with 1 Axes>"
            ],
            "image/png": "[encoded data removed]"
          },
          "metadata": {
            "needs_background": "light"
          }
        },
        {
          "output_type": "display_data",
          "data": {
            "text/plain": [
              "<Figure size 432x288 with 1 Axes>"
            ],
            "image/png": "[encoded data removed]"
          },
          "metadata": {
            "needs_background": "light"
          }
        }
      ]
    },
    {
      "cell_type": "code",
      "source": [],
      "metadata": {
        "id": "87uVFHBOmJTJ"
      },
      "execution_count": null,
      "outputs": []
    }
  ]
}